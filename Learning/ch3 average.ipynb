{
 "cells": [
  {
   "cell_type": "code",
   "execution_count": 12,
   "metadata": {},
   "outputs": [
    {
     "name": "stdout",
     "output_type": "stream",
     "text": [
      "8795\n"
     ]
    }
   ],
   "source": [
    "#with - setup a context within which your code runs (indludes teardown mechanism)\n",
    "#UPPERCASE variables are considered Constants\n",
    "#import builtins\n",
    "#import os\n",
    "\n",
    "FN = \"Darius-13-100m-Fly.txt\"\n",
    "FOLDER = \"swimdata/\"\n",
    "\n",
    "#for f in os.listdir(FOLDER):\n",
    "#    print(f)\n",
    "\n",
    "with open(FOLDER + FN) as file:\n",
    "    lines = file.readlines()\n",
    "    times = lines[0].strip().split(\",\")\n",
    "    #print(lines[0])\n",
    "    # Start with the string\n",
    "    first = times[0]\n",
    "    #Extract the component parts: start with the minutes value\n",
    "    minutes, rest = first.split(\":\")\n",
    "    #Extract the component pars: grab the seconds and hundredths values\n",
    "    seconds, hundredths = rest.split(\".\")\n",
    "\n",
    "    #Convert the strings to numbers with the help of another BIF called\n",
    "    #\"int\", then perform the calucation\n",
    "    converted_time = (int(minutes) * 60 * 100) + (int(seconds) * 100) + int(hundredths)\n",
    "\n",
    "    print(converted_time)"
   ]
  },
  {
   "cell_type": "code",
   "execution_count": null,
   "metadata": {},
   "outputs": [],
   "source": []
  }
 ],
 "metadata": {
  "kernelspec": {
   "display_name": "Python 3",
   "language": "python",
   "name": "python3"
  },
  "language_info": {
   "codemirror_mode": {
    "name": "ipython",
    "version": 3
   },
   "file_extension": ".py",
   "mimetype": "text/x-python",
   "name": "python",
   "nbconvert_exporter": "python",
   "pygments_lexer": "ipython3",
   "version": "3.11.5"
  },
  "orig_nbformat": 4
 },
 "nbformat": 4,
 "nbformat_minor": 2
}
