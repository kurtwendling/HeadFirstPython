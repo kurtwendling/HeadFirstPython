{
 "cells": [
  {
   "cell_type": "code",
   "execution_count": 8,
   "metadata": {},
   "outputs": [
    {
     "ename": "FileNotFoundError",
     "evalue": "[Errno 2] No such file or directory: 'swimdata/Darius=13-100m-Fly.txt'",
     "output_type": "error",
     "traceback": [
      "\u001b[1;31m---------------------------------------------------------------------------\u001b[0m",
      "\u001b[1;31mFileNotFoundError\u001b[0m                         Traceback (most recent call last)",
      "Cell \u001b[1;32mIn[8], line 7\u001b[0m\n\u001b[0;32m      5\u001b[0m FN \u001b[39m=\u001b[39m \u001b[39m\"\u001b[39m\u001b[39mDarius=13-100m-Fly.txt\u001b[39m\u001b[39m\"\u001b[39m\n\u001b[0;32m      6\u001b[0m FOLDER \u001b[39m=\u001b[39m \u001b[39m\"\u001b[39m\u001b[39mswimdata/\u001b[39m\u001b[39m\"\u001b[39m\n\u001b[1;32m----> 7\u001b[0m \u001b[39mwith\u001b[39;00m \u001b[39mopen\u001b[39;49m(FOLDER \u001b[39m+\u001b[39;49m FN) \u001b[39mas\u001b[39;00m file:\n\u001b[0;32m      8\u001b[0m     lines \u001b[39m=\u001b[39m file\u001b[39m.\u001b[39mreadlines()\n\u001b[0;32m      9\u001b[0m     times \u001b[39m=\u001b[39m lines[\u001b[39m0\u001b[39m]\u001b[39m.\u001b[39mstrip()\u001b[39m.\u001b[39msplit(\u001b[39m\"\u001b[39m\u001b[39m,\u001b[39m\u001b[39m\"\u001b[39m)\n",
      "File \u001b[1;32m~\\AppData\\Local\\Packages\\PythonSoftwareFoundation.Python.3.11_qbz5n2kfra8p0\\LocalCache\\local-packages\\Python311\\site-packages\\IPython\\core\\interactiveshell.py:284\u001b[0m, in \u001b[0;36m_modified_open\u001b[1;34m(file, *args, **kwargs)\u001b[0m\n\u001b[0;32m    277\u001b[0m \u001b[39mif\u001b[39;00m file \u001b[39min\u001b[39;00m {\u001b[39m0\u001b[39m, \u001b[39m1\u001b[39m, \u001b[39m2\u001b[39m}:\n\u001b[0;32m    278\u001b[0m     \u001b[39mraise\u001b[39;00m \u001b[39mValueError\u001b[39;00m(\n\u001b[0;32m    279\u001b[0m         \u001b[39mf\u001b[39m\u001b[39m\"\u001b[39m\u001b[39mIPython won\u001b[39m\u001b[39m'\u001b[39m\u001b[39mt let you open fd=\u001b[39m\u001b[39m{\u001b[39;00mfile\u001b[39m}\u001b[39;00m\u001b[39m by default \u001b[39m\u001b[39m\"\u001b[39m\n\u001b[0;32m    280\u001b[0m         \u001b[39m\"\u001b[39m\u001b[39mas it is likely to crash IPython. If you know what you are doing, \u001b[39m\u001b[39m\"\u001b[39m\n\u001b[0;32m    281\u001b[0m         \u001b[39m\"\u001b[39m\u001b[39myou can use builtins\u001b[39m\u001b[39m'\u001b[39m\u001b[39m open.\u001b[39m\u001b[39m\"\u001b[39m\n\u001b[0;32m    282\u001b[0m     )\n\u001b[1;32m--> 284\u001b[0m \u001b[39mreturn\u001b[39;00m io_open(file, \u001b[39m*\u001b[39;49margs, \u001b[39m*\u001b[39;49m\u001b[39m*\u001b[39;49mkwargs)\n",
      "\u001b[1;31mFileNotFoundError\u001b[0m: [Errno 2] No such file or directory: 'swimdata/Darius=13-100m-Fly.txt'"
     ]
    }
   ],
   "source": [
    "#with - setup a context within which your code runs (indludes teardown mechanism)\n",
    "#UPPERCASE variables are considered Constants\n",
    "import builtins\n",
    "\n",
    "FN = \"Darius=13-100m-Fly.txt\"\n",
    "FOLDER = \"swimdata/\"\n",
    "with open(FOLDER + FN) as file:\n",
    "    lines = file.readlines()\n",
    "    times = lines[0].strip().split(\",\")\n",
    "    print(lines[0])\n",
    "    # Start with the string\n",
    "    first = times[0]\n",
    "    #Extract the component parts: start with the minutes value\n",
    "    minutes, rest = first.split(\":\")\n",
    "    #Extract the component pars: grab the seconds and hundredths values\n",
    "    seconds, hundredths = rest.split(\".\")\n",
    "\n",
    "    #Convert the strings to numbers with the help of another BIF called\n",
    "    #\"int\", then perform the calucation\n",
    "    converted_time = (int(minutes) * 60 * 100) + (int(seconds) * 100) + int(hundredths)\n",
    "\n",
    "    print(converted_time)"
   ]
  },
  {
   "cell_type": "code",
   "execution_count": null,
   "metadata": {},
   "outputs": [],
   "source": []
  }
 ],
 "metadata": {
  "kernelspec": {
   "display_name": "Python 3",
   "language": "python",
   "name": "python3"
  },
  "language_info": {
   "codemirror_mode": {
    "name": "ipython",
    "version": 3
   },
   "file_extension": ".py",
   "mimetype": "text/x-python",
   "name": "python",
   "nbconvert_exporter": "python",
   "pygments_lexer": "ipython3",
   "version": "3.11.5"
  },
  "orig_nbformat": 4
 },
 "nbformat": 4,
 "nbformat_minor": 2
}
