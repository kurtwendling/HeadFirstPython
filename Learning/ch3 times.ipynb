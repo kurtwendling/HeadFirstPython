{
 "cells": [
  {
   "cell_type": "code",
   "execution_count": 2,
   "metadata": {},
   "outputs": [
    {
     "name": "stdout",
     "output_type": "stream",
     "text": [
      "Darius 13 100m Fly\n",
      "['1:27.95', '1:21.07', '1:30.96', '1:23.22', '1:27.95', '1:28.30']\n",
      "1:26.58\n"
     ]
    }
   ],
   "source": [
    "#with - setup a context within which your code runs (indludes teardown mechanism)\n",
    "#UPPERCASE variables are considered Constants\n",
    "#import builtins\n",
    "#import os\n",
    "import statistics\n",
    "\n",
    "FN = \"Darius-13-100m-Fly.txt\"\n",
    "FOLDER = \"swimdata/\"\n",
    "\n",
    "#for f in os.listdir(FOLDER):\n",
    "#    print(f)\n",
    "\n",
    "with open(FOLDER + FN) as file:\n",
    "    lines = file.readlines()\n",
    "    times = lines[0].strip().split(\",\")\n",
    "    \n",
    "    swimmer, age, distance, stroke = FN.removesuffix(\".txt\").split(\"-\")\n",
    "    print(swimmer, age, distance, stroke)\n",
    "\n",
    "    converts = []\n",
    "\n",
    "    for t in times:\n",
    "        minutes, rest = t.split(\":\")\n",
    "        seconds, hundredths = rest.split(\".\")\n",
    "        converted_time = (int(minutes) * 60 * 100) + (int(seconds) * 100) + int(hundredths)\n",
    "        converts.append(converted_time)\n",
    "\n",
    "    print(times)\n",
    "\n",
    "    average = statistics.mean(converts)\n",
    "    mins_secs, hundredths = str(round(average / 100, 2)).split(\".\")\n",
    "    mins_secs = int(mins_secs)\n",
    "    minutes = mins_secs // 60\n",
    "    seconds = mins_secs - minutes * 60\n",
    "    average = str(minutes) + \":\" + str(seconds) + \".\" + hundredths\n",
    "\n",
    "    print(average)\n",
    "\n",
    "\n",
    "\n"
   ]
  }
 ],
 "metadata": {
  "kernelspec": {
   "display_name": "Python 3",
   "language": "python",
   "name": "python3"
  },
  "language_info": {
   "codemirror_mode": {
    "name": "ipython",
    "version": 3
   },
   "file_extension": ".py",
   "mimetype": "text/x-python",
   "name": "python",
   "nbconvert_exporter": "python",
   "pygments_lexer": "ipython3",
   "version": "3.11.5"
  },
  "orig_nbformat": 4
 },
 "nbformat": 4,
 "nbformat_minor": 2
}
