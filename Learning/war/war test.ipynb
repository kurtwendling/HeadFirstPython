{
 "cells": [
  {
   "cell_type": "code",
   "execution_count": 1,
   "metadata": {},
   "outputs": [
    {
     "name": "stdout",
     "output_type": "stream",
     "text": [
      "set()\n",
      "{'5 of Clubs', '7 of Clubs', 'King of Clubs', '5 of Hearts', '9 of Hearts', '8 of Clubs', '6 of Hearts', '7 of Diamonds', '2 of Hearts', 'King of Hearts', 'Queen of Clubs', 'Queen of Hearts', 'Ace of Spades', '10 of Hearts', 'Jack of Diamonds', '8 of Spades', '10 of Diamonds', '3 of Diamonds', '4 of Hearts', '6 of Spades', '4 of Diamonds', 'Jack of Hearts', '9 of Diamonds', 'Jack of Clubs', '2 of Diamonds', 'Ace of Hearts'}\n",
      "{'3 of Hearts', 'Ace of Clubs', 'Queen of Spades', '4 of Clubs', '5 of Spades', '3 of Clubs', '7 of Spades', 'Jack of Spades', 'King of Spades', '2 of Clubs', '3 of Spades', '6 of Clubs', '10 of Clubs', '6 of Diamonds', '10 of Spades', '5 of Diamonds', '7 of Hearts', '4 of Spades', 'Queen of Diamonds', '8 of Hearts', 'Ace of Diamonds', 'King of Diamonds', '8 of Diamonds', '9 of Spades', '2 of Spades', '9 of Clubs'}\n"
     ]
    }
   ],
   "source": [
    "import deck\n",
    "\n",
    "house_deck = deck.initDeck()\n",
    "number_of_players = 2\n",
    "hands = deck.deal(house_deck, number_of_players)\n",
    "\n",
    "print(house_deck)\n",
    "print(hands[0])\n",
    "print(hands[1])\n",
    "\n",
    "\n",
    "\n"
   ]
  },
  {
   "cell_type": "code",
   "execution_count": 2,
   "metadata": {},
   "outputs": [
    {
     "name": "stdout",
     "output_type": "stream",
     "text": [
      "26\n",
      "26\n",
      "2\n",
      "finished\n"
     ]
    }
   ],
   "source": [
    "while not(deck.game_over(hands)):\n",
    "    deck.play_round(hands)\n",
    "\n",
    "print(\"finished\")"
   ]
  }
 ],
 "metadata": {
  "kernelspec": {
   "display_name": "Python 3",
   "language": "python",
   "name": "python3"
  },
  "language_info": {
   "codemirror_mode": {
    "name": "ipython",
    "version": 3
   },
   "file_extension": ".py",
   "mimetype": "text/x-python",
   "name": "python",
   "nbconvert_exporter": "python",
   "pygments_lexer": "ipython3",
   "version": "3.11.5"
  },
  "orig_nbformat": 4
 },
 "nbformat": 4,
 "nbformat_minor": 2
}
