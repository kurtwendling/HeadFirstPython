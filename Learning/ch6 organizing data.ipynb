{
 "cells": [
  {
   "cell_type": "code",
   "execution_count": 1,
   "metadata": {},
   "outputs": [
    {
     "name": "stdout",
     "output_type": "stream",
     "text": [
      "60\n"
     ]
    }
   ],
   "source": [
    "import os\n",
    "import swimclub\n",
    "\n",
    "swim_files = os.listdir(swimclub.FOLDER)\n",
    "swim_files.remove('.DS_Store')\n",
    "\n",
    "print(len(swim_files))"
   ]
  },
  {
   "cell_type": "code",
   "execution_count": 2,
   "metadata": {},
   "outputs": [
    {
     "data": {
      "text/plain": [
       "[('Abi', 'Abi-10-100m-Back.txt'),\n",
       " ('Abi', 'Abi-10-100m-Breast.txt'),\n",
       " ('Abi', 'Abi-10-50m-Back.txt'),\n",
       " ('Abi', 'Abi-10-50m-Breast.txt'),\n",
       " ('Abi', 'Abi-10-50m-Free.txt')]"
      ]
     },
     "execution_count": 2,
     "metadata": {},
     "output_type": "execute_result"
    }
   ],
   "source": [
    "swimmers = []\n",
    "for file in swim_files:\n",
    "    #name = swimclub.read_swim_data(file)[0]\n",
    "    #if name not in swimmers:\n",
    "        #swimmers.append(name)\n",
    "    swimclub.read_swim_data(file)[0]\n",
    "    swimmers.append((swimclub.read_swim_data(file)[0], file))\n",
    "#print(sorted(swimmers))\n",
    "len(swim_files)\n",
    "swimmers[:5]"
   ]
  },
  {
   "cell_type": "code",
   "execution_count": 3,
   "metadata": {},
   "outputs": [
    {
     "name": "stdout",
     "output_type": "stream",
     "text": [
      "[('Abi', 'Abi-10-100m-Back.txt'), ('Abi', 'Abi-10-100m-Breast.txt'), ('Abi', 'Abi-10-50m-Back.txt'), ('Abi', 'Abi-10-50m-Breast.txt'), ('Abi', 'Abi-10-50m-Free.txt'), ('Ali', 'Ali-12-100m-Back.txt'), ('Ali', 'Ali-12-100m-Free.txt'), ('Alison', 'Alison-14-100m-Breast.txt'), ('Alison', 'Alison-14-100m-Free.txt'), ('Aurora', 'Aurora-13-50m-Free.txt'), ('Bill', 'Bill-18-100m-Back.txt'), ('Bill', 'Bill-18-200m-Back.txt'), ('Blake', 'Blake-15-100m-Back.txt'), ('Blake', 'Blake-15-100m-Fly.txt'), ('Blake', 'Blake-15-100m-Free.txt'), ('Calvin', 'Calvin-9-50m-Back.txt'), ('Calvin', 'Calvin-9-50m-Fly.txt'), ('Calvin', 'Calvin-9-50m-Free.txt'), ('Carl', 'Carl-15-100m-Back.txt'), ('Chris', 'Chris-17-100m-Back.txt'), ('Chris', 'Chris-17-100m-Breast.txt'), ('Darius', 'Darius-13-100m-Back.txt'), ('Darius', 'Darius-13-100m-Breast.txt'), ('Darius', 'Darius-13-100m-Fly.txt'), ('Darius', 'Darius-13-200m-IM.txt'), ('Dave', 'Dave-17-100m-Free.txt'), ('Dave', 'Dave-17-200m-Back.txt'), ('Elba', 'Elba-14-100m-Free.txt'), ('Emma', 'Emma-13-100m-Breast.txt'), ('Emma', 'Emma-13-100m-Free.txt'), ('Erika', 'Erika-15-100m-Breast.txt'), ('Erika', 'Erika-15-100m-Free.txt'), ('Erika', 'Erika-15-200m-Breast.txt'), ('Hannah', 'Hannah-13-100m-Back.txt'), ('Hannah', 'Hannah-13-100m-Free.txt'), ('Katie', 'Katie-9-100m-Back.txt'), ('Katie', 'Katie-9-100m-Breast.txt'), ('Katie', 'Katie-9-100m-Free.txt'), ('Katie', 'Katie-9-50m-Back.txt'), ('Katie', 'Katie-9-50m-Breast.txt'), ('Katie', 'Katie-9-50m-Fly.txt'), ('Katie', 'Katie-9-50m-Free.txt'), ('Lizzie', 'Lizzie-14-100m-Back.txt'), ('Lizzie', 'Lizzie-14-100m-Free.txt'), ('Maria', 'Maria-9-50m-Free.txt'), ('Mike', 'Mike-15-100m-Back.txt'), ('Mike', 'Mike-15-100m-Fly.txt'), ('Mike', 'Mike-15-100m-Free.txt'), ('Mike', 'Mike-15-200m-Free.txt'), ('Mike', 'Mike-15-200m-IM.txt'), ('Owen', 'Owen-15-100m-Free.txt'), ('Ruth', 'Ruth-13-100m-Back.txt'), ('Ruth', 'Ruth-13-100m-Free.txt'), ('Ruth', 'Ruth-13-200m-Back.txt'), ('Ruth', 'Ruth-13-200m-Free.txt'), ('Ruth', 'Ruth-13-400m-Free.txt'), ('Tasmin', 'Tasmin-15-100m-Back.txt'), ('Tasmin', 'Tasmin-15-100m-Breast.txt'), ('Tasmin', 'Tasmin-15-100m-Free.txt'), ('Tasmin', 'Tasmin-15-200m-Breast.txt')]\n"
     ]
    },
    {
     "data": {
      "text/plain": [
       "60"
      ]
     },
     "execution_count": 3,
     "metadata": {},
     "output_type": "execute_result"
    }
   ],
   "source": [
    "#set removes all duplicate or repeated entries\n",
    "names = list(set(swimmers))\n",
    "print(sorted(names))\n",
    "len(names)"
   ]
  },
  {
   "cell_type": "code",
   "execution_count": 4,
   "metadata": {},
   "outputs": [
    {
     "name": "stdout",
     "output_type": "stream",
     "text": [
      "25 ('Dave', 'Dave-17-100m-Free.txt')\n",
      "26 ('Dave', 'Dave-17-200m-Back.txt')\n"
     ]
    }
   ],
   "source": [
    "for n, event in enumerate(swimmers):\n",
    "    if event[0] == \"Dave\":\n",
    "        print(n, event)"
   ]
  },
  {
   "cell_type": "code",
   "execution_count": 5,
   "metadata": {},
   "outputs": [
    {
     "name": "stdout",
     "output_type": "stream",
     "text": [
      "Tim O'Reilly\n"
     ]
    }
   ],
   "source": [
    "# dictionaries surrounded by curly braces, square brackets to add a row of data\n",
    "person = {\n",
    "    \"first\": \"Tim\",\n",
    "    \"last\": \"O'Reilly\"\n",
    "}\n",
    "print(person[\"first\"], person[\"last\"])"
   ]
  },
  {
   "cell_type": "code",
   "execution_count": 6,
   "metadata": {},
   "outputs": [
    {
     "data": {
      "text/plain": [
       "['Dave-17-100m-Free.txt', 'Dave-17-200m-Back.txt']"
      ]
     },
     "execution_count": 6,
     "metadata": {},
     "output_type": "execute_result"
    }
   ],
   "source": [
    "swimmers = {}\n",
    "for file in swim_files:\n",
    "    name, *_ = swimclub.read_swim_data(file)\n",
    "    if name not in swimmers:\n",
    "        swimmers[name] = []\n",
    "    swimmers[name].append(file)\n",
    "\n",
    "swimmers[\"Dave\"]"
   ]
  },
  {
   "cell_type": "code",
   "execution_count": 7,
   "metadata": {},
   "outputs": [
    {
     "name": "stdout",
     "output_type": "stream",
     "text": [
      "{'Abi': ['Abi-10-100m-Back.txt',\n",
      "         'Abi-10-100m-Breast.txt',\n",
      "         'Abi-10-50m-Back.txt',\n",
      "         'Abi-10-50m-Breast.txt',\n",
      "         'Abi-10-50m-Free.txt'],\n",
      " 'Ali': ['Ali-12-100m-Back.txt', 'Ali-12-100m-Free.txt'],\n",
      " 'Alison': ['Alison-14-100m-Breast.txt', 'Alison-14-100m-Free.txt'],\n",
      " 'Aurora': ['Aurora-13-50m-Free.txt'],\n",
      " 'Bill': ['Bill-18-100m-Back.txt', 'Bill-18-200m-Back.txt'],\n",
      " 'Blake': ['Blake-15-100m-Back.txt',\n",
      "           'Blake-15-100m-Fly.txt',\n",
      "           'Blake-15-100m-Free.txt'],\n",
      " 'Calvin': ['Calvin-9-50m-Back.txt',\n",
      "            'Calvin-9-50m-Fly.txt',\n",
      "            'Calvin-9-50m-Free.txt'],\n",
      " 'Carl': ['Carl-15-100m-Back.txt'],\n",
      " 'Chris': ['Chris-17-100m-Back.txt', 'Chris-17-100m-Breast.txt'],\n",
      " 'Darius': ['Darius-13-100m-Back.txt',\n",
      "            'Darius-13-100m-Breast.txt',\n",
      "            'Darius-13-100m-Fly.txt',\n",
      "            'Darius-13-200m-IM.txt'],\n",
      " 'Dave': ['Dave-17-100m-Free.txt', 'Dave-17-200m-Back.txt'],\n",
      " 'Elba': ['Elba-14-100m-Free.txt'],\n",
      " 'Emma': ['Emma-13-100m-Breast.txt', 'Emma-13-100m-Free.txt'],\n",
      " 'Erika': ['Erika-15-100m-Breast.txt',\n",
      "           'Erika-15-100m-Free.txt',\n",
      "           'Erika-15-200m-Breast.txt'],\n",
      " 'Hannah': ['Hannah-13-100m-Back.txt', 'Hannah-13-100m-Free.txt'],\n",
      " 'Katie': ['Katie-9-100m-Back.txt',\n",
      "           'Katie-9-100m-Breast.txt',\n",
      "           'Katie-9-100m-Free.txt',\n",
      "           'Katie-9-50m-Back.txt',\n",
      "           'Katie-9-50m-Breast.txt',\n",
      "           'Katie-9-50m-Fly.txt',\n",
      "           'Katie-9-50m-Free.txt'],\n",
      " 'Lizzie': ['Lizzie-14-100m-Back.txt', 'Lizzie-14-100m-Free.txt'],\n",
      " 'Maria': ['Maria-9-50m-Free.txt'],\n",
      " 'Mike': ['Mike-15-100m-Back.txt',\n",
      "          'Mike-15-100m-Fly.txt',\n",
      "          'Mike-15-100m-Free.txt',\n",
      "          'Mike-15-200m-Free.txt',\n",
      "          'Mike-15-200m-IM.txt'],\n",
      " 'Owen': ['Owen-15-100m-Free.txt'],\n",
      " 'Ruth': ['Ruth-13-100m-Back.txt',\n",
      "          'Ruth-13-100m-Free.txt',\n",
      "          'Ruth-13-200m-Back.txt',\n",
      "          'Ruth-13-200m-Free.txt',\n",
      "          'Ruth-13-400m-Free.txt'],\n",
      " 'Tasmin': ['Tasmin-15-100m-Back.txt',\n",
      "            'Tasmin-15-100m-Breast.txt',\n",
      "            'Tasmin-15-100m-Free.txt',\n",
      "            'Tasmin-15-200m-Breast.txt']}\n"
     ]
    }
   ],
   "source": [
    "import pprint\n",
    "\n",
    "pprint.pprint(swimmers)"
   ]
  },
  {
   "cell_type": "code",
   "execution_count": 8,
   "metadata": {},
   "outputs": [
    {
     "name": "stdout",
     "output_type": "stream",
     "text": [
      "['__class__', '__class_getitem__', '__contains__', '__delattr__', '__delitem__', '__dir__', '__doc__', '__eq__', '__format__', '__ge__', '__getattribute__', '__getitem__', '__getstate__', '__gt__', '__hash__', '__init__', '__init_subclass__', '__ior__', '__iter__', '__le__', '__len__', '__lt__', '__ne__', '__new__', '__or__', '__reduce__', '__reduce_ex__', '__repr__', '__reversed__', '__ror__', '__setattr__', '__setitem__', '__sizeof__', '__str__', '__subclasshook__', 'clear', 'copy', 'fromkeys', 'get', 'items', 'keys', 'pop', 'popitem', 'setdefault', 'update', 'values']\n"
     ]
    }
   ],
   "source": [
    "print(dir(swimmers))"
   ]
  },
  {
   "cell_type": "code",
   "execution_count": 9,
   "metadata": {},
   "outputs": [],
   "source": [
    "import webbrowser\n",
    "\n",
    "for fname in swimmers[\"Calvin\"]:\n",
    "    webbrowser.open(\"file://\" + os.path.realpath(swimclub.produce_bar_chart(fname)))"
   ]
  }
 ],
 "metadata": {
  "kernelspec": {
   "display_name": "Python 3",
   "language": "python",
   "name": "python3"
  },
  "language_info": {
   "codemirror_mode": {
    "name": "ipython",
    "version": 3
   },
   "file_extension": ".py",
   "mimetype": "text/x-python",
   "name": "python",
   "nbconvert_exporter": "python",
   "pygments_lexer": "ipython3",
   "version": "3.11.5"
  },
  "orig_nbformat": 4
 },
 "nbformat": 4,
 "nbformat_minor": 2
}
